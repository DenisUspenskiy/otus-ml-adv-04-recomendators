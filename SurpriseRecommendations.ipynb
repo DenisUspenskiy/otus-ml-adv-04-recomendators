{
 "cells": [
  {
   "cell_type": "markdown",
   "id": "ba57c419-4634-43d5-853c-37dcc69d1a4b",
   "metadata": {},
   "source": [
    "### В данном ноутбуке проводится построение рекомендательной системы на основе пакета Surprise. Файл с рейтингами \"Video Games\" скачан с https://nijianmo.github.io/amazon/index.html"
   ]
  },
  {
   "cell_type": "code",
   "execution_count": 197,
   "id": "04fbc109-2a15-4da1-893c-7ce2c82c95f5",
   "metadata": {},
   "outputs": [
    {
     "data": {
      "text/html": [
       "<style>.container { width:80% !important; }</style>"
      ],
      "text/plain": [
       "<IPython.core.display.HTML object>"
      ]
     },
     "metadata": {},
     "output_type": "display_data"
    }
   ],
   "source": [
    "#импорт начальных библиотек\n",
    "from IPython.display import display, HTML\n",
    "import matplotlib.pyplot as plt\n",
    "import numpy as np\n",
    "import pandas as pd\n",
    "import seaborn as sns\n",
    "from sklearn.model_selection import train_test_split\n",
    "from sklearn.metrics import mean_squared_error, mean_absolute_error, mean_absolute_percentage_error\n",
    "\n",
    "#assert python version >=3,5\n",
    "import sys\n",
    "assert sys.version_info >= (3,5)\n",
    "\n",
    "import warnings\n",
    "\n",
    "%matplotlib inline\n",
    "display(HTML(\"<style>.container { width:80% !important; }</style>\"))\n",
    "\n",
    "warnings.filterwarnings(\"ignore\")"
   ]
  },
  {
   "cell_type": "markdown",
   "id": "9573e5d1-0d3f-4bab-a650-5ac68461b4ef",
   "metadata": {},
   "source": [
    "Считаем файл с данными. Файл с рейтингами \"VideoGames\" был скачан с https://nijianmo.github.io/amazon/index.html "
   ]
  },
  {
   "cell_type": "code",
   "execution_count": 35,
   "id": "65a3e859-c22f-4ae1-8189-ce926ff4e5d0",
   "metadata": {},
   "outputs": [],
   "source": [
    "df = pd.read_csv('data/Video_Games.csv', header=None)\n",
    "df.columns = [\"item\",\"user\",\"rating\",\"timestamp\"]"
   ]
  },
  {
   "cell_type": "code",
   "execution_count": 36,
   "id": "42cc6ad9-663a-42c5-ba1d-6aacd0fc1ebe",
   "metadata": {},
   "outputs": [
    {
     "data": {
      "text/html": [
       "<div>\n",
       "<style scoped>\n",
       "    .dataframe tbody tr th:only-of-type {\n",
       "        vertical-align: middle;\n",
       "    }\n",
       "\n",
       "    .dataframe tbody tr th {\n",
       "        vertical-align: top;\n",
       "    }\n",
       "\n",
       "    .dataframe thead th {\n",
       "        text-align: right;\n",
       "    }\n",
       "</style>\n",
       "<table border=\"1\" class=\"dataframe\">\n",
       "  <thead>\n",
       "    <tr style=\"text-align: right;\">\n",
       "      <th></th>\n",
       "      <th>item</th>\n",
       "      <th>user</th>\n",
       "      <th>rating</th>\n",
       "      <th>timestamp</th>\n",
       "    </tr>\n",
       "  </thead>\n",
       "  <tbody>\n",
       "    <tr>\n",
       "      <th>0</th>\n",
       "      <td>0439381673</td>\n",
       "      <td>A21ROB4YDOZA5P</td>\n",
       "      <td>1.0</td>\n",
       "      <td>1402272000</td>\n",
       "    </tr>\n",
       "    <tr>\n",
       "      <th>1</th>\n",
       "      <td>0439381673</td>\n",
       "      <td>A3TNZ2Q5E7HTHD</td>\n",
       "      <td>3.0</td>\n",
       "      <td>1399680000</td>\n",
       "    </tr>\n",
       "    <tr>\n",
       "      <th>2</th>\n",
       "      <td>0439381673</td>\n",
       "      <td>A1OKRM3QFEATQO</td>\n",
       "      <td>4.0</td>\n",
       "      <td>1391731200</td>\n",
       "    </tr>\n",
       "    <tr>\n",
       "      <th>3</th>\n",
       "      <td>0439381673</td>\n",
       "      <td>A2XO1JFCNEYV3T</td>\n",
       "      <td>1.0</td>\n",
       "      <td>1391731200</td>\n",
       "    </tr>\n",
       "    <tr>\n",
       "      <th>4</th>\n",
       "      <td>0439381673</td>\n",
       "      <td>A19WLPIRHD15TH</td>\n",
       "      <td>4.0</td>\n",
       "      <td>1389830400</td>\n",
       "    </tr>\n",
       "  </tbody>\n",
       "</table>\n",
       "</div>"
      ],
      "text/plain": [
       "         item            user  rating   timestamp\n",
       "0  0439381673  A21ROB4YDOZA5P     1.0  1402272000\n",
       "1  0439381673  A3TNZ2Q5E7HTHD     3.0  1399680000\n",
       "2  0439381673  A1OKRM3QFEATQO     4.0  1391731200\n",
       "3  0439381673  A2XO1JFCNEYV3T     1.0  1391731200\n",
       "4  0439381673  A19WLPIRHD15TH     4.0  1389830400"
      ]
     },
     "execution_count": 36,
     "metadata": {},
     "output_type": "execute_result"
    }
   ],
   "source": [
    "df.head()"
   ]
  },
  {
   "cell_type": "markdown",
   "id": "814bd11c-9888-4f19-9913-bcacde692054",
   "metadata": {},
   "source": [
    "**Проведем базовый EDA**"
   ]
  },
  {
   "cell_type": "code",
   "execution_count": 179,
   "id": "cb665b61-081b-4a4e-b9fc-f8e2b2aff327",
   "metadata": {},
   "outputs": [
    {
     "name": "stdout",
     "output_type": "stream",
     "text": [
      "Num of ratings 2565349, num of users 1540618, num of items 71982\n"
     ]
    }
   ],
   "source": [
    "print(\"Num of ratings {:d}, num of users {:d}, num of items {:d}\".format(df.shape[0], df.user.nunique(), df.item.nunique()))"
   ]
  },
  {
   "cell_type": "markdown",
   "id": "6dae52a1-4880-4bcb-a969-51256105423c",
   "metadata": {},
   "source": [
    "Распределение рейтигов:"
   ]
  },
  {
   "cell_type": "code",
   "execution_count": 41,
   "id": "c987412d-0cfe-4d2c-977f-aeba5a7012db",
   "metadata": {},
   "outputs": [
    {
     "data": {
      "text/plain": [
       "5.0    0.579791\n",
       "4.0    0.160763\n",
       "1.0    0.121578\n",
       "3.0    0.082775\n",
       "2.0    0.055093\n",
       "Name: rating, dtype: float64"
      ]
     },
     "execution_count": 41,
     "metadata": {},
     "output_type": "execute_result"
    }
   ],
   "source": [
    "df.rating.value_counts() / df.shape[0]"
   ]
  },
  {
   "cell_type": "markdown",
   "id": "9504589b-bc4e-4e10-88cb-9bbea1c71abb",
   "metadata": {},
   "source": [
    "В основом, (57%), положительные рейтинги. Меньше всего рейтингов, с оценко 3 и 2, - 8.3% и 5,5% соответственно. Пропусков, т.е. 0 рейтингов в данных нет"
   ]
  },
  {
   "cell_type": "code",
   "execution_count": 181,
   "id": "13e674b4-d239-4b43-bd4e-250672e7e3c1",
   "metadata": {},
   "outputs": [
    {
     "name": "stdout",
     "output_type": "stream",
     "text": [
      "% of absent data in user-item matrix 0.999977\n"
     ]
    }
   ],
   "source": [
    "print(\"% of absent data in user-item matrix {:0.6f}\".format(1- df.shape[0] / (df.user.nunique()*df.item.nunique())))"
   ]
  },
  {
   "cell_type": "markdown",
   "id": "e6b545e5-ac19-40bb-b17b-39a5c6615bb6",
   "metadata": {},
   "source": [
    "В матрице Юзер-Айтем будет достаточно много пропусков, что негативно скажется на модели. Рекомендованное кол-во пропусков не более 99.5%"
   ]
  },
  {
   "cell_type": "markdown",
   "id": "55f1827f-ab6e-41aa-a3d8-7758c9f915c1",
   "metadata": {},
   "source": [
    "**Подготовим тренировачный и тестовый наборы**"
   ]
  },
  {
   "cell_type": "markdown",
   "id": "76471b51-aeea-475b-987e-a38e2e003c87",
   "metadata": {},
   "source": [
    "В данных присутствует поле timestamp. Отсортируем данные по времени и возмем 30% из будущего как тестовый набор. При этом в тренировачном наборе занули рейтинги из тестового набора, чтобы потом оценить соответствие реальным рейтингам."
   ]
  },
  {
   "cell_type": "code",
   "execution_count": 42,
   "id": "613977bb-c7c7-49a2-b157-05203ca3a0fb",
   "metadata": {},
   "outputs": [],
   "source": [
    "df.sort_values(by=\"timestamp\", inplace=True)"
   ]
  },
  {
   "cell_type": "code",
   "execution_count": 51,
   "id": "1b0d75aa-bdff-4545-8fa0-36593887521a",
   "metadata": {},
   "outputs": [],
   "source": [
    "#Shuffle = False, so there will be no radndom shuffling in data\n",
    "df_train, df_test = train_test_split(df, shuffle=False, test_size=0.3, random_state=143)"
   ]
  },
  {
   "cell_type": "code",
   "execution_count": 52,
   "id": "28d9ee01-4180-4d32-a6d7-74f20f7d6af7",
   "metadata": {},
   "outputs": [],
   "source": [
    "#zero the ratings for users & items who present in test dataset\n",
    "df_train_zero = df_train.copy()\n",
    "df_train_zero.loc[df_train_zero[df_train_zero.set_index(['item','user']).index.isin(df_test.set_index(['item','user']).index)].index, 'rating'] = 0"
   ]
  },
  {
   "cell_type": "code",
   "execution_count": 183,
   "id": "acc5cfc7-39bb-4eb3-92e5-cec6a0ef4a20",
   "metadata": {},
   "outputs": [
    {
     "data": {
      "text/plain": [
       "54"
      ]
     },
     "execution_count": 183,
     "metadata": {},
     "output_type": "execute_result"
    }
   ],
   "source": [
    "df_train_zero[df_train_zero.rating == 0].shape[0]"
   ]
  },
  {
   "cell_type": "markdown",
   "id": "a9c08aca-8ef3-4cd1-9891-2c644f3150c9",
   "metadata": {},
   "source": [
    "Получилось всего 54 оценки по которым мы можем сравнить реально поставленные рейтинги из будущего"
   ]
  },
  {
   "cell_type": "markdown",
   "id": "75c324f8-e3c9-4c20-aada-88046bbb6292",
   "metadata": {},
   "source": [
    "**Построим рекомендательную модель с использованием библиотеки Surprise**"
   ]
  },
  {
   "cell_type": "code",
   "execution_count": 81,
   "id": "290d332f-b518-4d0e-8953-eaa013df1c09",
   "metadata": {},
   "outputs": [],
   "source": [
    "from surprise import accuracy, NormalPredictor, Dataset, Reader\n",
    "from surprise.model_selection import cross_validate"
   ]
  },
  {
   "cell_type": "code",
   "execution_count": 55,
   "id": "8a400068-8eb1-49bf-a5a1-2fcc9bf3de10",
   "metadata": {},
   "outputs": [],
   "source": [
    "#read data from train dataset\n",
    "reader = Reader(rating_scale=(1, 5))\n",
    "data = Dataset.load_from_df(df_train_zero[[\"user\", \"item\", \"rating\"]], reader)"
   ]
  },
  {
   "cell_type": "markdown",
   "id": "395a40c8-67d9-40c7-824b-b9653f50b9ec",
   "metadata": {},
   "source": [
    "Оценим бейз-лайн метрики с помощью базового рекомендатора NormalPredictor , который просто строит прогноз исходя из предположения о нормальности распределения рейтингов для каэдого юзерп"
   ]
  },
  {
   "cell_type": "code",
   "execution_count": 184,
   "id": "676de193-0435-4e0d-a880-1758ece265a5",
   "metadata": {},
   "outputs": [
    {
     "data": {
      "text/plain": [
       "{'test_rmse': array([1.76837981, 1.76418789, 1.76670339]),\n",
       " 'test_mae': array([1.35423059, 1.35066578, 1.35323318]),\n",
       " 'fit_time': (0.874598503112793, 1.0558373928070068, 1.0620834827423096),\n",
       " 'test_time': (3.1861259937286377, 3.1254053115844727, 3.1237478256225586)}"
      ]
     },
     "execution_count": 184,
     "metadata": {},
     "output_type": "execute_result"
    }
   ],
   "source": [
    "cross_validate(NormalPredictor(), data, cv=3)"
   ]
  },
  {
   "cell_type": "markdown",
   "id": "115134f9-3713-4958-af5d-c2e09457a647",
   "metadata": {},
   "source": [
    "Бейзлайн по RMSE составляет 1,766"
   ]
  },
  {
   "cell_type": "markdown",
   "id": "c1301abd-e6cf-4139-b2ef-843ec919faa0",
   "metadata": {},
   "source": [
    "Возмем в качестве рекомендатора алгоритм SVD и проведем его тренировку и поиск лучших параметров по сетке"
   ]
  },
  {
   "cell_type": "code",
   "execution_count": 57,
   "id": "86a01f24-3c70-41b1-bb8d-baa183008558",
   "metadata": {},
   "outputs": [],
   "source": [
    "from surprise import SVD\n",
    "from surprise.model_selection import GridSearchCV"
   ]
  },
  {
   "cell_type": "code",
   "execution_count": 58,
   "id": "9de72f28-9108-4fca-8e5d-f1e19c424c43",
   "metadata": {},
   "outputs": [],
   "source": [
    "param_grid = {\"n_factors\":[10,20,50,100,150], \"n_epochs\": [5, 10, 20], \"lr_all\": [0.002, 0.005], \"reg_all\": [0.4, 0.6]}\n",
    "gs = GridSearchCV(SVD, param_grid, measures=[\"rmse\", \"mae\"], cv=3)\n",
    "\n",
    "gs.fit(data)"
   ]
  },
  {
   "cell_type": "code",
   "execution_count": 186,
   "id": "1ec3df85-b596-4616-b5a4-0a20d5885626",
   "metadata": {},
   "outputs": [
    {
     "name": "stdout",
     "output_type": "stream",
     "text": [
      "Best scores: RMSE 1.2622 , MAE 1.0058\n"
     ]
    }
   ],
   "source": [
    "print(\"Best scores: RMSE {:0.4f} , MAE {:0.4f}\".format(gs.best_score[\"rmse\"], gs.best_score[\"mae\"]))"
   ]
  },
  {
   "cell_type": "markdown",
   "id": "31547395-9ba9-42e8-a788-8231d141d44b",
   "metadata": {},
   "source": [
    "По сравнению с бейзлайном ошибка RMSE снизился на 0.521"
   ]
  },
  {
   "cell_type": "code",
   "execution_count": 61,
   "id": "e88ad037-e6f6-441e-ac89-dee90792650c",
   "metadata": {},
   "outputs": [],
   "source": [
    "results_df = pd.DataFrame.from_dict(gs.cv_results)"
   ]
  },
  {
   "cell_type": "code",
   "execution_count": 187,
   "id": "0a2df30d-34bf-48a4-924d-bb7c4a400f90",
   "metadata": {},
   "outputs": [
    {
     "data": {
      "text/html": [
       "<div>\n",
       "<style scoped>\n",
       "    .dataframe tbody tr th:only-of-type {\n",
       "        vertical-align: middle;\n",
       "    }\n",
       "\n",
       "    .dataframe tbody tr th {\n",
       "        vertical-align: top;\n",
       "    }\n",
       "\n",
       "    .dataframe thead th {\n",
       "        text-align: right;\n",
       "    }\n",
       "</style>\n",
       "<table border=\"1\" class=\"dataframe\">\n",
       "  <thead>\n",
       "    <tr style=\"text-align: right;\">\n",
       "      <th></th>\n",
       "      <th>split0_test_rmse</th>\n",
       "      <th>split1_test_rmse</th>\n",
       "      <th>split2_test_rmse</th>\n",
       "      <th>mean_test_rmse</th>\n",
       "      <th>std_test_rmse</th>\n",
       "      <th>rank_test_rmse</th>\n",
       "      <th>split0_test_mae</th>\n",
       "      <th>split1_test_mae</th>\n",
       "      <th>split2_test_mae</th>\n",
       "      <th>mean_test_mae</th>\n",
       "      <th>...</th>\n",
       "      <th>rank_test_mae</th>\n",
       "      <th>mean_fit_time</th>\n",
       "      <th>std_fit_time</th>\n",
       "      <th>mean_test_time</th>\n",
       "      <th>std_test_time</th>\n",
       "      <th>params</th>\n",
       "      <th>param_n_factors</th>\n",
       "      <th>param_n_epochs</th>\n",
       "      <th>param_lr_all</th>\n",
       "      <th>param_reg_all</th>\n",
       "    </tr>\n",
       "  </thead>\n",
       "  <tbody>\n",
       "    <tr>\n",
       "      <th>0</th>\n",
       "      <td>1.305402</td>\n",
       "      <td>1.306766</td>\n",
       "      <td>1.300524</td>\n",
       "      <td>1.304231</td>\n",
       "      <td>0.002679</td>\n",
       "      <td>51</td>\n",
       "      <td>1.043563</td>\n",
       "      <td>1.043977</td>\n",
       "      <td>1.040365</td>\n",
       "      <td>1.042635</td>\n",
       "      <td>...</td>\n",
       "      <td>51</td>\n",
       "      <td>1.743582</td>\n",
       "      <td>0.039521</td>\n",
       "      <td>2.574891</td>\n",
       "      <td>0.026587</td>\n",
       "      <td>{'n_factors': 10, 'n_epochs': 5, 'lr_all': 0.0...</td>\n",
       "      <td>10</td>\n",
       "      <td>5</td>\n",
       "      <td>0.002</td>\n",
       "      <td>0.4</td>\n",
       "    </tr>\n",
       "    <tr>\n",
       "      <th>1</th>\n",
       "      <td>1.309075</td>\n",
       "      <td>1.310370</td>\n",
       "      <td>1.304255</td>\n",
       "      <td>1.307900</td>\n",
       "      <td>0.002631</td>\n",
       "      <td>56</td>\n",
       "      <td>1.049138</td>\n",
       "      <td>1.049550</td>\n",
       "      <td>1.046002</td>\n",
       "      <td>1.048230</td>\n",
       "      <td>...</td>\n",
       "      <td>56</td>\n",
       "      <td>1.413548</td>\n",
       "      <td>0.027842</td>\n",
       "      <td>2.325187</td>\n",
       "      <td>0.338944</td>\n",
       "      <td>{'n_factors': 10, 'n_epochs': 5, 'lr_all': 0.0...</td>\n",
       "      <td>10</td>\n",
       "      <td>5</td>\n",
       "      <td>0.002</td>\n",
       "      <td>0.6</td>\n",
       "    </tr>\n",
       "    <tr>\n",
       "      <th>2</th>\n",
       "      <td>1.288240</td>\n",
       "      <td>1.289552</td>\n",
       "      <td>1.283519</td>\n",
       "      <td>1.287103</td>\n",
       "      <td>0.002590</td>\n",
       "      <td>32</td>\n",
       "      <td>1.030407</td>\n",
       "      <td>1.030869</td>\n",
       "      <td>1.027597</td>\n",
       "      <td>1.029624</td>\n",
       "      <td>...</td>\n",
       "      <td>31</td>\n",
       "      <td>1.407524</td>\n",
       "      <td>0.033631</td>\n",
       "      <td>2.332910</td>\n",
       "      <td>0.354610</td>\n",
       "      <td>{'n_factors': 10, 'n_epochs': 5, 'lr_all': 0.0...</td>\n",
       "      <td>10</td>\n",
       "      <td>5</td>\n",
       "      <td>0.005</td>\n",
       "      <td>0.4</td>\n",
       "    </tr>\n",
       "    <tr>\n",
       "      <th>3</th>\n",
       "      <td>1.292757</td>\n",
       "      <td>1.294058</td>\n",
       "      <td>1.288185</td>\n",
       "      <td>1.291667</td>\n",
       "      <td>0.002519</td>\n",
       "      <td>41</td>\n",
       "      <td>1.037404</td>\n",
       "      <td>1.037914</td>\n",
       "      <td>1.034636</td>\n",
       "      <td>1.036651</td>\n",
       "      <td>...</td>\n",
       "      <td>41</td>\n",
       "      <td>1.376340</td>\n",
       "      <td>0.040936</td>\n",
       "      <td>2.505179</td>\n",
       "      <td>0.015699</td>\n",
       "      <td>{'n_factors': 10, 'n_epochs': 5, 'lr_all': 0.0...</td>\n",
       "      <td>10</td>\n",
       "      <td>5</td>\n",
       "      <td>0.005</td>\n",
       "      <td>0.6</td>\n",
       "    </tr>\n",
       "    <tr>\n",
       "      <th>4</th>\n",
       "      <td>1.292457</td>\n",
       "      <td>1.293848</td>\n",
       "      <td>1.287641</td>\n",
       "      <td>1.291315</td>\n",
       "      <td>0.002660</td>\n",
       "      <td>36</td>\n",
       "      <td>1.032996</td>\n",
       "      <td>1.033438</td>\n",
       "      <td>1.029902</td>\n",
       "      <td>1.032112</td>\n",
       "      <td>...</td>\n",
       "      <td>36</td>\n",
       "      <td>2.644036</td>\n",
       "      <td>0.120965</td>\n",
       "      <td>2.281314</td>\n",
       "      <td>0.354578</td>\n",
       "      <td>{'n_factors': 10, 'n_epochs': 10, 'lr_all': 0....</td>\n",
       "      <td>10</td>\n",
       "      <td>10</td>\n",
       "      <td>0.002</td>\n",
       "      <td>0.4</td>\n",
       "    </tr>\n",
       "  </tbody>\n",
       "</table>\n",
       "<p>5 rows × 21 columns</p>\n",
       "</div>"
      ],
      "text/plain": [
       "   split0_test_rmse  split1_test_rmse  split2_test_rmse  mean_test_rmse  \\\n",
       "0          1.305402          1.306766          1.300524        1.304231   \n",
       "1          1.309075          1.310370          1.304255        1.307900   \n",
       "2          1.288240          1.289552          1.283519        1.287103   \n",
       "3          1.292757          1.294058          1.288185        1.291667   \n",
       "4          1.292457          1.293848          1.287641        1.291315   \n",
       "\n",
       "   std_test_rmse  rank_test_rmse  split0_test_mae  split1_test_mae  \\\n",
       "0       0.002679              51         1.043563         1.043977   \n",
       "1       0.002631              56         1.049138         1.049550   \n",
       "2       0.002590              32         1.030407         1.030869   \n",
       "3       0.002519              41         1.037404         1.037914   \n",
       "4       0.002660              36         1.032996         1.033438   \n",
       "\n",
       "   split2_test_mae  mean_test_mae  ...  rank_test_mae  mean_fit_time  \\\n",
       "0         1.040365       1.042635  ...             51       1.743582   \n",
       "1         1.046002       1.048230  ...             56       1.413548   \n",
       "2         1.027597       1.029624  ...             31       1.407524   \n",
       "3         1.034636       1.036651  ...             41       1.376340   \n",
       "4         1.029902       1.032112  ...             36       2.644036   \n",
       "\n",
       "   std_fit_time  mean_test_time  std_test_time  \\\n",
       "0      0.039521        2.574891       0.026587   \n",
       "1      0.027842        2.325187       0.338944   \n",
       "2      0.033631        2.332910       0.354610   \n",
       "3      0.040936        2.505179       0.015699   \n",
       "4      0.120965        2.281314       0.354578   \n",
       "\n",
       "                                              params param_n_factors  \\\n",
       "0  {'n_factors': 10, 'n_epochs': 5, 'lr_all': 0.0...              10   \n",
       "1  {'n_factors': 10, 'n_epochs': 5, 'lr_all': 0.0...              10   \n",
       "2  {'n_factors': 10, 'n_epochs': 5, 'lr_all': 0.0...              10   \n",
       "3  {'n_factors': 10, 'n_epochs': 5, 'lr_all': 0.0...              10   \n",
       "4  {'n_factors': 10, 'n_epochs': 10, 'lr_all': 0....              10   \n",
       "\n",
       "   param_n_epochs  param_lr_all  param_reg_all  \n",
       "0               5         0.002            0.4  \n",
       "1               5         0.002            0.6  \n",
       "2               5         0.005            0.4  \n",
       "3               5         0.005            0.6  \n",
       "4              10         0.002            0.4  \n",
       "\n",
       "[5 rows x 21 columns]"
      ]
     },
     "execution_count": 187,
     "metadata": {},
     "output_type": "execute_result"
    }
   ],
   "source": [
    "#grid search iterations details\n",
    "results_df.head()"
   ]
  },
  {
   "cell_type": "markdown",
   "id": "5e5a35aa-2604-4eed-b7c2-d4160c62f583",
   "metadata": {},
   "source": [
    "Лучшие параметры:"
   ]
  },
  {
   "cell_type": "code",
   "execution_count": 64,
   "id": "d8b433b3-3d55-475c-8609-7a5dce0322a7",
   "metadata": {},
   "outputs": [
    {
     "name": "stdout",
     "output_type": "stream",
     "text": [
      "{'n_factors': 150, 'n_epochs': 20, 'lr_all': 0.005, 'reg_all': 0.4}\n"
     ]
    }
   ],
   "source": [
    "print(gs.best_params[\"rmse\"])"
   ]
  },
  {
   "cell_type": "markdown",
   "id": "5a87c6fd-9a18-40f4-8752-1ebcd39be471",
   "metadata": {},
   "source": [
    "Теперь обучим модель на всем тренировачном сете и оценим на тестовом"
   ]
  },
  {
   "cell_type": "code",
   "execution_count": 69,
   "id": "9c169d05-16e6-4c0f-9059-cb3b704cfbe3",
   "metadata": {},
   "outputs": [
    {
     "data": {
      "text/plain": [
       "<surprise.prediction_algorithms.matrix_factorization.SVD at 0x7f4422400fd0>"
      ]
     },
     "execution_count": 69,
     "metadata": {},
     "output_type": "execute_result"
    }
   ],
   "source": [
    "algo_svd = gs.best_estimator[\"rmse\"]\n",
    "algo_svd.fit(data.build_full_trainset())"
   ]
  },
  {
   "cell_type": "code",
   "execution_count": 79,
   "id": "e752e506-1086-40eb-ac41-edb1d8448971",
   "metadata": {},
   "outputs": [],
   "source": [
    "data_test = Dataset.load_from_df(df_test[[\"user\", \"item\", \"rating\"]], reader)\n",
    "test_set = data_test.build_full_trainset().build_testset()\n",
    "predictions = algo_svd.test(test_set)"
   ]
  },
  {
   "cell_type": "code",
   "execution_count": 188,
   "id": "d22cf6cb-3519-43fe-a7a1-bfe03bb9f58a",
   "metadata": {},
   "outputs": [
    {
     "name": "stdout",
     "output_type": "stream",
     "text": [
      "RMSE: 1.4214\n",
      "MAE:  1.1451\n",
      "Metrics on test data: RMSE 1.4214, MAE 1.1451\n"
     ]
    }
   ],
   "source": [
    "# Then compute RMSE & MAE on test dataset\n",
    "print(\"Metrics on test data: RMSE {:0.4f}, MAE {:0.4f}\".format(accuracy.rmse(predictions), accuracy.mae(predictions)))"
   ]
  },
  {
   "cell_type": "code",
   "execution_count": 193,
   "id": "a021e0b6-13e1-49db-9879-2f73fa50c6b2",
   "metadata": {},
   "outputs": [
    {
     "data": {
      "text/plain": [
       "rating\n",
       "4         711281\n",
       "3          31252\n",
       "5          26750\n",
       "2            314\n",
       "1              8\n",
       "dtype: int64"
      ]
     },
     "execution_count": 193,
     "metadata": {},
     "output_type": "execute_result"
    }
   ],
   "source": [
    "pd.DataFrame([round(p.est) for p in predictions], columns=[\"rating\"]).value_counts()"
   ]
  },
  {
   "cell_type": "markdown",
   "id": "f8c67a00-b32d-4b96-951f-76326ddd4e15",
   "metadata": {},
   "source": [
    "На тестовом сете ошибки выросли, RMSE на 0.23 MAE на 0.135, получается достаточно смещенная оценка в сторону средних значений рейтингов"
   ]
  },
  {
   "cell_type": "markdown",
   "id": "fedab5e9-4ce5-4978-9543-d2976498da0a",
   "metadata": {},
   "source": [
    "Оценим теперь качетсво на той выборке, по которой мы зануляли рейтинги"
   ]
  },
  {
   "cell_type": "code",
   "execution_count": 163,
   "id": "75ed6669-0be2-4608-9232-6034452b79e3",
   "metadata": {},
   "outputs": [],
   "source": [
    "actuals = []\n",
    "estimates = []\n",
    "for item, user, rating,_ in df_train_zero[df_train_zero.rating == 0].itertuples(index=False):\n",
    "    actual_rating = df_test[(df_test.item == item) & (df_test.user == user)][\"rating\"].values[0]\n",
    "    actuals.append(actual_rating)\n",
    "    est = algo_svd.predict(user, item, r_ui=actual_rating).est\n",
    "    estimates.append(est)"
   ]
  },
  {
   "cell_type": "code",
   "execution_count": 172,
   "id": "e4c619ad-fa60-47b4-ae83-3e9267cf0bf2",
   "metadata": {},
   "outputs": [],
   "source": [
    "from sklearn.metrics import mean_squared_error, mean_absolute_error, mean_absolute_percentage_error"
   ]
  },
  {
   "cell_type": "code",
   "execution_count": 194,
   "id": "6063f8d3-e6b6-49ba-9490-684b252325da",
   "metadata": {},
   "outputs": [
    {
     "name": "stdout",
     "output_type": "stream",
     "text": [
      "Estimates on users and items who have ratings in future:  RMSE 1.9697, MAE 1.2152, MAE% 0.53\n"
     ]
    }
   ],
   "source": [
    "print(\"Estimates on users and items who have ratings in future:  RMSE {:0.4f}, MAE {:0.4f}, MAE% {:0.2f}\".format(\n",
    "    mean_squared_error(actuals, estimates), \n",
    "    mean_absolute_error(actuals, estimates),\n",
    "    mean_absolute_percentage_error(actuals, estimates)\n",
    "))"
   ]
  },
  {
   "cell_type": "code",
   "execution_count": 196,
   "id": "b62921d0-a306-4cac-bb22-9a028d743678",
   "metadata": {},
   "outputs": [
    {
     "data": {
      "text/plain": [
       "rating\n",
       "4         40\n",
       "3          9\n",
       "5          4\n",
       "2          1\n",
       "dtype: int64"
      ]
     },
     "execution_count": 196,
     "metadata": {},
     "output_type": "execute_result"
    }
   ],
   "source": [
    "pd.DataFrame([round(e) for e in estimates], columns=[\"rating\"]).value_counts()"
   ]
  },
  {
   "cell_type": "markdown",
   "id": "b2df5d85-98bd-47c9-ac67-8537f4e3d14a",
   "metadata": {},
   "source": [
    "**На контрольной выборке ошибки достаточно велики. Видимо из-за слишком большого кол-ва пропусков в исходном наборе. Также можно попробовать другие алгоритмы из библиотеки.**"
   ]
  }
 ],
 "metadata": {
  "kernelspec": {
   "display_name": "otus",
   "language": "python",
   "name": "otus"
  },
  "language_info": {
   "codemirror_mode": {
    "name": "ipython",
    "version": 3
   },
   "file_extension": ".py",
   "mimetype": "text/x-python",
   "name": "python",
   "nbconvert_exporter": "python",
   "pygments_lexer": "ipython3",
   "version": "3.8.10"
  }
 },
 "nbformat": 4,
 "nbformat_minor": 5
}
